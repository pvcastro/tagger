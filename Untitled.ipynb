{
 "cells": [
  {
   "cell_type": "code",
   "execution_count": 13,
   "metadata": {},
   "outputs": [],
   "source": [
    "import unicodedata"
   ]
  },
  {
   "cell_type": "code",
   "execution_count": 1,
   "metadata": {
    "collapsed": true
   },
   "outputs": [],
   "source": [
    "chars = [u'$', u'(', u',', u'0', u'\\xb7', u'@', u'\\xc3', u'D', u'\\xc7', u'H', u'L', u'P', u'\\xd3', u'T', u'X', u'\\\\', u'`', u'\\xe3', u'd', u'\\xe7', u'h', u'l', u'p', u'\\xf3', u't', u'x', u'|', u\"'\", u'+', u'/', u';', u'?', u'\\xc0', u'C', u'G', u'K', u'O', u'S', u'\\xd4', u'W', u'_', u'\\xe0', u'c', u'g', u'\\xe8', u'k', u'\\xec', u'o', u's', u'\\xf4', u'w', u'\\xfc', u'&', u'\\xa9', u'*', u'.', u'\\xb5', u':', u'>', u'\\xc1', u'B', u'F', u'\\xc9', u'J', u'\\xcd', u'N', u'R', u'\\xd5', u'V', u'Z', u'\\xdd', u'\\xe1', u'b', u'f', u'\\xe9', u'j', u'\\xed', u'n', u'\\xf1', u'r', u'\\xf5', u'v', u'z', u'~', u'!', u'%', u')', u'\\xaa', u'-', u'\\xae', u'\\xb2', u'\\xba', u'=', u'A', u'\\xc2', u'E', u'I', u'\\xca', u'M', u'Q', u'U', u'\\xd6', u'Y', u'\\xda', u'a', u'\\xe2', u'e', u'\\xe6', u'i', u'\\xea', u'm', u'q', u'\\xf2', u'u', u'\\xf6', u'y', u'\\xfa']"
   ]
  },
  {
   "cell_type": "code",
   "execution_count": 16,
   "metadata": {},
   "outputs": [
    {
     "name": "stdout",
     "output_type": "stream",
     "text": [
      "$ $\n",
      "( (\n",
      ", ,\n",
      "0 0\n",
      "· ·\n",
      "@ @\n",
      "Ã Ã\n",
      "D D\n",
      "Ç Ç\n",
      "H H\n",
      "L L\n",
      "P P\n",
      "Ó Ó\n",
      "T T\n",
      "X X\n",
      "\\ \\\n",
      "` `\n",
      "ã ã\n",
      "d d\n",
      "ç ç\n",
      "h h\n",
      "l l\n",
      "p p\n",
      "ó ó\n",
      "t t\n",
      "x x\n",
      "| |\n",
      "' '\n",
      "+ +\n",
      "/ /\n",
      "; ;\n",
      "? ?\n",
      "À À\n",
      "C C\n",
      "G G\n",
      "K K\n",
      "O O\n",
      "S S\n",
      "Ô Ô\n",
      "W W\n",
      "_ _\n",
      "à à\n",
      "c c\n",
      "g g\n",
      "è è\n",
      "k k\n",
      "ì ì\n",
      "o o\n",
      "s s\n",
      "ô ô\n",
      "w w\n",
      "ü ü\n",
      "& &\n",
      "© ©\n",
      "* *\n",
      ". .\n",
      "µ µ\n",
      ": :\n",
      "> >\n",
      "Á Á\n",
      "B B\n",
      "F F\n",
      "É É\n",
      "J J\n",
      "Í Í\n",
      "N N\n",
      "R R\n",
      "Õ Õ\n",
      "V V\n",
      "Z Z\n",
      "Ý Ý\n",
      "á á\n",
      "b b\n",
      "f f\n",
      "é é\n",
      "j j\n",
      "í í\n",
      "n n\n",
      "ñ ñ\n",
      "r r\n",
      "õ õ\n",
      "v v\n",
      "z z\n",
      "~ ~\n",
      "! !\n",
      "% %\n",
      ") )\n",
      "ª ª\n",
      "- -\n",
      "® ®\n",
      "² ²\n",
      "º º\n",
      "= =\n",
      "A A\n",
      "Â Â\n",
      "E E\n",
      "I I\n",
      "Ê Ê\n",
      "M M\n",
      "Q Q\n",
      "U U\n",
      "Ö Ö\n",
      "Y Y\n",
      "Ú Ú\n",
      "a a\n",
      "â â\n",
      "e e\n",
      "æ æ\n",
      "i i\n",
      "ê ê\n",
      "m m\n",
      "q q\n",
      "ò ò\n",
      "u u\n",
      "ö ö\n",
      "y y\n",
      "ú ú\n"
     ]
    }
   ],
   "source": [
    "for char in chars:\n",
    "    print(unicodedata.normalize('NFD', char), str(char))"
   ]
  },
  {
   "cell_type": "code",
   "execution_count": null,
   "metadata": {
    "collapsed": true
   },
   "outputs": [],
   "source": [
    "char_set = Ordere"
   ]
  },
  {
   "cell_type": "code",
   "execution_count": null,
   "metadata": {
    "collapsed": true
   },
   "outputs": [],
   "source": []
  }
 ],
 "metadata": {
  "kernelspec": {
   "display_name": "Python 3",
   "language": "python",
   "name": "python3"
  },
  "language_info": {
   "codemirror_mode": {
    "name": "ipython",
    "version": 3
   },
   "file_extension": ".py",
   "mimetype": "text/x-python",
   "name": "python",
   "nbconvert_exporter": "python",
   "pygments_lexer": "ipython3",
   "version": "3.6.3"
  }
 },
 "nbformat": 4,
 "nbformat_minor": 2
}
