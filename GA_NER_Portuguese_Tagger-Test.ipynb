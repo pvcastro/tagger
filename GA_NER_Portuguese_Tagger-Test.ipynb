{
 "cells": [
  {
   "cell_type": "code",
   "execution_count": 1,
   "metadata": {},
   "outputs": [
    {
     "name": "stderr",
     "output_type": "stream",
     "text": [
      "Using cuDNN version 6021 on context None\n",
      "Mapped name None to device cuda: GeForce GTX 1070 (0000:01:00.0)\n"
     ]
    }
   ],
   "source": [
    "import numpy as np\n",
    "import pandas as pd\n",
    "import random\n",
    "import time\n",
    "\n",
    "from deap import base, creator, tools, algorithms\n",
    "from scipy.stats import bernoulli\n",
    "from bitstring import BitArray\n",
    "\n",
    "import parameters\n",
    "import ner\n",
    "import sentence_tagger"
   ]
  },
  {
   "cell_type": "code",
   "execution_count": 4,
   "metadata": {},
   "outputs": [
    {
     "name": "stdout",
     "output_type": "stream",
     "text": [
      "Loading model...\n",
      "Compiling...\n",
      "Tagging...\n",
      "---- sentence tagged in 0.0067s ----\n",
      "['Este', 'trabalho', 'avalia', 'o', 'uso', 'de', 'Algoritmos', 'Geneticos,', 'pelo', 'aluno', 'Pedro', 'Vitor', 'Quinta', 'de', 'Castro,', 'da', 'Universidade', 'Federal', 'de', 'Goias']\n",
      "[u'O', u'O', u'O', u'O', u'O', u'O', u'B-PESSOA', u'I-PESSOA', u'O', u'O', u'B-PESSOA', u'I-PESSOA', u'I-PESSOA', u'I-PESSOA', u'I-PESSOA', u'I-PESSOA', u'I-PESSOA', u'I-PESSOA', u'O', u'B-LOCAL']\n"
     ]
    },
    {
     "data": {
      "text/plain": [
       "'Este__O trabalho__O avalia__O o__O uso__O de__O Algoritmos__B-PESSOA Geneticos,__I-PESSOA pelo__O aluno__O Pedro__B-PESSOA Vitor__I-PESSOA Quinta__I-PESSOA de__I-PESSOA Castro,__I-PESSOA da__I-PESSOA Universidade__I-PESSOA Federal__I-PESSOA de__O Goias__B-LOCAL'"
      ]
     },
     "execution_count": 4,
     "metadata": {},
     "output_type": "execute_result"
    }
   ],
   "source": [
    "sentence_tagger.tag('models/tag_scheme=iob,lower=True,zeros=True,char_dim=25,char_lstm_dim=34,char_bidirect=True,word_dim=100,word_lstm_dim=200,word_bidirect=True,pre_emb=glove_s100.txt,all_emb=True,cap_dim=1,crf=True,dropout=0.5,lr_method=sgd-lr_.005',\n",
    "                    'Este trabalho avalia o uso de Algoritmos Geneticos, pelo aluno Pedro Vitor Quinta de Castro, da Universidade Federal de Goias')"
   ]
  },
  {
   "cell_type": "code",
   "execution_count": null,
   "metadata": {
    "collapsed": true
   },
   "outputs": [],
   "source": []
  }
 ],
 "metadata": {
  "kernelspec": {
   "display_name": "Python 2",
   "language": "python",
   "name": "python2"
  },
  "language_info": {
   "codemirror_mode": {
    "name": "ipython",
    "version": 2
   },
   "file_extension": ".py",
   "mimetype": "text/x-python",
   "name": "python",
   "nbconvert_exporter": "python",
   "pygments_lexer": "ipython2",
   "version": "2.7.14"
  }
 },
 "nbformat": 4,
 "nbformat_minor": 2
}
