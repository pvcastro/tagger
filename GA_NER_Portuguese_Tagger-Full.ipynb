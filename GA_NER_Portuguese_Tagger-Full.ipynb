{
 "cells": [
  {
   "cell_type": "code",
   "execution_count": 1,
   "metadata": {},
   "outputs": [
    {
     "name": "stderr",
     "output_type": "stream",
     "text": [
      "Using cuDNN version 6021 on context None\n",
      "Mapped name None to device cuda: GeForce GTX 1070 (0000:01:00.0)\n"
     ]
    }
   ],
   "source": [
    "import numpy as np\n",
    "import pandas as pd\n",
    "import random\n",
    "import time\n",
    "\n",
    "from deap import base, creator, tools, algorithms\n",
    "from scipy.stats import bernoulli\n",
    "from bitstring import BitArray\n",
    "\n",
    "import parameters\n",
    "import ner\n",
    "import sentence_tagger"
   ]
  },
  {
   "cell_type": "code",
   "execution_count": 2,
   "metadata": {
    "collapsed": true
   },
   "outputs": [],
   "source": [
    "def replace(individual, indexes, value):\n",
    "    binary_format = '{0:0' + str(indexes[1] - indexes[0])  + 'b}'\n",
    "    binary_value = binary_format.format(value)\n",
    "    index_list = list(range(*indexes))\n",
    "    assert len(index_list) == len(binary_value), 'Binary representation must be the same size as the indexes interval'\n",
    "    for (index, replacement) in zip(index_list, binary_value):\n",
    "        individual[index] = int(replacement)"
   ]
  },
  {
   "cell_type": "code",
   "execution_count": 3,
   "metadata": {
    "collapsed": true
   },
   "outputs": [],
   "source": [
    "def check_and_replace_if_needed(individual, indexes, min_value, max_value):\n",
    "    value_bits = BitArray(individual[slice(*indexes)])\n",
    "    int_value = value_bits.uint\n",
    "    if int_value < min_value:\n",
    "        print('adjusting individual to lower bound, switching', int_value, 'at position', indexes, 'for', min_value)\n",
    "        replace(indexes=indexes, individual=individual, value=min_value)\n",
    "    elif int_value > max_value:\n",
    "        print('adjusting individual to upper bound, switching', int_value, 'at position', indexes, 'for', max_value)\n",
    "        replace(indexes=indexes, individual=individual, value=max_value)"
   ]
  },
  {
   "cell_type": "code",
   "execution_count": 4,
   "metadata": {
    "collapsed": true
   },
   "outputs": [],
   "source": [
    "def adjust_individual(individual, min_char_lstm_dim=10, max_char_lstm_dim=50, min_word_lstm_dim=50, max_word_lstm_dim=200):\n",
    "    check_and_replace_if_needed(individual=individual, \n",
    "                                indexes=(2,8), \n",
    "                                min_value=min_char_lstm_dim, \n",
    "                                max_value=max_char_lstm_dim)\n",
    "    check_and_replace_if_needed(individual=individual, \n",
    "                                indexes=(9,17), \n",
    "                                min_value=min_word_lstm_dim, \n",
    "                                max_value=max_word_lstm_dim)"
   ]
  },
  {
   "cell_type": "code",
   "execution_count": 5,
   "metadata": {
    "collapsed": true
   },
   "outputs": [],
   "source": [
    "def check_individual():\n",
    "    def decorator(func):\n",
    "        def wrapper(*args, **kargs):\n",
    "            individual = func(*args, **kargs)\n",
    "            adjust_individual(individual=individual)\n",
    "            return individual\n",
    "        return wrapper\n",
    "    return decorator"
   ]
  },
  {
   "cell_type": "code",
   "execution_count": 6,
   "metadata": {
    "collapsed": true
   },
   "outputs": [],
   "source": [
    "def check_mate():\n",
    "    def decorator(func):\n",
    "        def wrapper(*args, **kargs):\n",
    "            children = func(*args, **kargs)\n",
    "            child1, child2 = children\n",
    "            adjust_individual(child1)\n",
    "            adjust_individual(child2)\n",
    "            return children\n",
    "        return wrapper\n",
    "    return decorator"
   ]
  },
  {
   "cell_type": "code",
   "execution_count": 7,
   "metadata": {
    "collapsed": true
   },
   "outputs": [],
   "source": [
    "def check_mutation():\n",
    "    def decorator(func):\n",
    "        def wrapper(*args, **kargs):\n",
    "            mutant = func(*args, **kargs)\n",
    "            adjust_individual(mutant[0])\n",
    "            return mutant\n",
    "        return wrapper\n",
    "    return decorator"
   ]
  },
  {
   "cell_type": "code",
   "execution_count": 8,
   "metadata": {
    "collapsed": true
   },
   "outputs": [],
   "source": [
    "def train_evaluate(ga_individual_solution):\n",
    "    training_parameters = parameters.get_parameters_from_individual(ga_individual_solution=ga_individual_solution, \n",
    "                                                                    train='dataset/train.txt', \n",
    "                                                                    dev='dataset/dev.txt', \n",
    "                                                                    test='dataset/test.txt', \n",
    "                                                                    tag_scheme='iob', \n",
    "                                                                    char_dim=25, \n",
    "                                                                    word_dim=100, \n",
    "                                                                    pre_emb='embeddings/glove_s100.txt', \n",
    "                                                                    all_emb=True, \n",
    "                                                                    crf=True, \n",
    "                                                                    dropout=0.5, \n",
    "                                                                    lr_method='sgd-lr_.005',\n",
    "                                                                    reload=False)\n",
    "    print('Lower text?', training_parameters['lower'], \n",
    "          'Replace digits with zero?', training_parameters['zeros'], \n",
    "          'Dimension of LSTM for chars:', training_parameters['char_lstm_dim'],\n",
    "          'Use bidirectional LSTM for chars?', training_parameters['char_bidirect'],\n",
    "          'Dimension of LSTM for words:', training_parameters['word_lstm_dim'],\n",
    "          'Use bidirectional LSTM for words?', training_parameters['word_bidirect'],\n",
    "          'Dimension of capitalization features:', training_parameters['cap_dim'])\n",
    "    model = ner.NER(parameters=training_parameters)\n",
    "    f1_score = model.train(n_epochs=5, verbose=False)\n",
    "    return f1_score,"
   ]
  },
  {
   "cell_type": "code",
   "execution_count": 9,
   "metadata": {
    "collapsed": true
   },
   "outputs": [],
   "source": [
    "population_size = 16\n",
    "num_generations = 16\n",
    "gene_length = 19"
   ]
  },
  {
   "cell_type": "code",
   "execution_count": null,
   "metadata": {
    "collapsed": true
   },
   "outputs": [],
   "source": [
    "creator.create(\"FitnessMax\", base.Fitness, weights=(1.0,))\n",
    "creator.create(\"Individual\", list, fitness=creator.FitnessMax)\n",
    "\n",
    "toolbox = base.Toolbox()\n",
    "toolbox.register('binary', bernoulli.rvs, 0.5)\n",
    "toolbox.register('individual', tools.initRepeat, creator.Individual, toolbox.binary, n = gene_length)\n",
    "toolbox.decorate('individual', check_individual())\n",
    "toolbox.register('population', tools.initRepeat, list , toolbox.individual)\n",
    "\n",
    "toolbox.register('mate', tools.cxOrdered)\n",
    "toolbox.decorate('mate', check_mate())\n",
    "toolbox.register('mutate', tools.mutShuffleIndexes, indpb = 0.6)\n",
    "toolbox.decorate('mutate', check_mutation())\n",
    "toolbox.register('select', tools.selTournament, tournsize=2)\n",
    "toolbox.register('evaluate', train_evaluate)"
   ]
  },
  {
   "cell_type": "code",
   "execution_count": null,
   "metadata": {
    "scrolled": true
   },
   "outputs": [
    {
     "name": "stdout",
     "output_type": "stream",
     "text": [
      "('adjusting individual to upper bound, switching', 240, 'at position', (9, 17), 'for', 200)\n",
      "('adjusting individual to lower bound, switching', 30, 'at position', (9, 17), 'for', 50)\n",
      "('adjusting individual to lower bound, switching', 11, 'at position', (9, 17), 'for', 50)\n",
      "('adjusting individual to lower bound, switching', 30, 'at position', (9, 17), 'for', 50)\n",
      "('adjusting individual to lower bound, switching', 32, 'at position', (9, 17), 'for', 50)\n",
      "('adjusting individual to upper bound, switching', 62, 'at position', (2, 8), 'for', 50)\n",
      "('adjusting individual to lower bound, switching', 42, 'at position', (9, 17), 'for', 50)\n",
      "('adjusting individual to upper bound, switching', 54, 'at position', (2, 8), 'for', 50)\n",
      "('adjusting individual to upper bound, switching', 54, 'at position', (2, 8), 'for', 50)\n",
      "('adjusting individual to lower bound, switching', 48, 'at position', (9, 17), 'for', 50)\n",
      "('adjusting individual to upper bound, switching', 63, 'at position', (2, 8), 'for', 50)\n",
      "('adjusting individual to upper bound, switching', 226, 'at position', (9, 17), 'for', 200)\n",
      "('Lower text?', False, 'Replace digits with zero?', True, 'Dimension of LSTM for chars:', 46, 'Use bidirectional LSTM for chars?', False, 'Dimension of LSTM for words:', 200, 'Use bidirectional LSTM for words?', True, 'Dimension of capitalization features:', 1)\n",
      "Model location: ./models/tag_scheme=iob,lower=False,zeros=True,char_dim=25,char_lstm_dim=46,char_bidirect=False,word_dim=100,word_lstm_dim=200,word_bidirect=True,pre_emb=glove_s100.txt,all_emb=True,cap_dim=1,crf=True,dropout=0.5,lr_method=sgd-lr_.005\n",
      "Found 13639 unique words (62480 in total)\n",
      "Loading pretrained embeddings from embeddings/glove_s100.txt...\n",
      "Found 114 unique characters\n",
      "Found 21 unique named entity tags\n",
      "2955 / 529 / 854 sentences in train / dev / test.\n",
      "Saving the mappings to disk...\n",
      "Loading pretrained embeddings from embeddings/glove_s100.txt...\n",
      "WARNING: 2349 invalid lines\n",
      "Loaded 931381 pretrained embeddings.\n",
      "935019 / 936050 (99.8899%) words have been initialized with pretrained embeddings.\n",
      "931381 found directly, 3631 after lowercasing, 7 after lowercasing + zero.\n",
      "Compiling...\n",
      "('Starting epoch 0 at...', 'Fri Jan 26 17:47:46 2018')\n"
     ]
    }
   ],
   "source": [
    "population = toolbox.population(n = population_size)\n",
    "r = algorithms.eaSimple(population, toolbox, cxpb = 0.4, mutpb = 0.1, ngen = num_generations, verbose = True)\n",
    "print(time.ctime())"
   ]
  },
  {
   "cell_type": "code",
   "execution_count": null,
   "metadata": {},
   "outputs": [],
   "source": [
    "best_individuals = tools.selBest(population,k = 1)\n",
    "\n",
    "lower = None\n",
    "zeros = None\n",
    "char_lstm_dim = None\n",
    "char_bidirect = None\n",
    "word_lstm_dim = None\n",
    "word_bidirect = None\n",
    "cap_dim = None\n",
    "\n",
    "for bi in best_individuals:\n",
    "    lower_bit = bi[0]\n",
    "    zeros_bit = bi[1]\n",
    "    char_lstm_dim_bits = BitArray(bi[2:8])\n",
    "    char_bidirect_bit = bi[8]\n",
    "    word_lstm_dim_bits = BitArray(bi[9:17])\n",
    "    word_bidirect_bit = bi[17]\n",
    "    cap_dim_bit = bi[18]\n",
    "    \n",
    "    lower = lower_bit == 1\n",
    "    zeros = zeros_bit == 1\n",
    "    char_lstm_dim = char_lstm_dim_bits.uint\n",
    "    char_bidirect = char_bidirect_bit == 1\n",
    "    word_lstm_dim = word_lstm_dim_bits.uint\n",
    "    word_bidirect = word_bidirect_bit == 1\n",
    "    cap_dim = cap_dim_bit\n",
    "    \n",
    "    print('Lower text?', lower, \n",
    "          'Replace digits with zero?', zeros, \n",
    "          'Dimension of LSTM for chars:', char_lstm_dim,\n",
    "          'Use bidirectional LSTM for chars?', char_bidirect,\n",
    "          'Dimension of LSTM for words:', word_lstm_dim,\n",
    "          'Use bidirectional LSTM for words?', word_bidirect,\n",
    "          'Dimension of capitalization features:', cap_dim,\n",
    "          'F1 score:', bi.fitness.values)"
   ]
  },
  {
   "cell_type": "code",
   "execution_count": null,
   "metadata": {},
   "outputs": [],
   "source": [
    "sentence_tagger.tag('models/tag_scheme=iob,lower=True,zeros=True,char_dim=25,char_lstm_dim=34,char_bidirect=True,word_dim=100,word_lstm_dim=200,word_bidirect=True,pre_emb=glove_s100.txt,all_emb=True,cap_dim=1,crf=True,dropout=0.5,lr_method=sgd-lr_.005',\n",
    "                    'Este trabalho avalia o uso de Algoritmos Geneticos, pelo aluno Pedro Vitor Quinta de Castro, da Universidade Federal de Goias')"
   ]
  },
  {
   "cell_type": "code",
   "execution_count": null,
   "metadata": {
    "collapsed": true
   },
   "outputs": [],
   "source": []
  }
 ],
 "metadata": {
  "kernelspec": {
   "display_name": "Python 2",
   "language": "python",
   "name": "python2"
  },
  "language_info": {
   "codemirror_mode": {
    "name": "ipython",
    "version": 2
   },
   "file_extension": ".py",
   "mimetype": "text/x-python",
   "name": "python",
   "nbconvert_exporter": "python",
   "pygments_lexer": "ipython2",
   "version": "2.7.14"
  }
 },
 "nbformat": 4,
 "nbformat_minor": 2
}
